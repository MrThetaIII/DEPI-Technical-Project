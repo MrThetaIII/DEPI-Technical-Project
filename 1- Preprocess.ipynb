{
 "cells": [
  {
   "cell_type": "code",
   "execution_count": 3,
   "id": "72d54a96-b60e-4e15-b4e7-13cc9641fb81",
   "metadata": {},
   "outputs": [],
   "source": [
    "import matplotlib.pyplot as plt\n",
    "import seaborn as sns"
   ]
  },
  {
   "cell_type": "code",
   "execution_count": 4,
   "id": "44c815bd-4cf8-4339-a907-5037797b314e",
   "metadata": {},
   "outputs": [],
   "source": [
    "import kagglehub\n",
    "import pandas as pd\n",
    "\n",
    "path = kagglehub.dataset_download(\"raj713335/twittesentimentanalysis\")\n"
   ]
  },
  {
   "cell_type": "code",
   "execution_count": 5,
   "id": "29d11ed4-361d-4dca-9727-f05e6c5466cb",
   "metadata": {},
   "outputs": [
    {
     "name": "stdout",
     "output_type": "stream",
     "text": [
      "Path to dataset files: C:\\Users\\hp\\.cache\\kagglehub\\datasets\\raj713335\\twittesentimentanalysis\\versions\\1\n"
     ]
    },
    {
     "data": {
      "text/html": [
       "<div>\n",
       "<style scoped>\n",
       "    .dataframe tbody tr th:only-of-type {\n",
       "        vertical-align: middle;\n",
       "    }\n",
       "\n",
       "    .dataframe tbody tr th {\n",
       "        vertical-align: top;\n",
       "    }\n",
       "\n",
       "    .dataframe thead th {\n",
       "        text-align: right;\n",
       "    }\n",
       "</style>\n",
       "<table border=\"1\" class=\"dataframe\">\n",
       "  <thead>\n",
       "    <tr style=\"text-align: right;\">\n",
       "      <th></th>\n",
       "      <th>Target</th>\n",
       "      <th>ID</th>\n",
       "      <th>Date</th>\n",
       "      <th>Query</th>\n",
       "      <th>User</th>\n",
       "      <th>Text</th>\n",
       "    </tr>\n",
       "  </thead>\n",
       "  <tbody>\n",
       "    <tr>\n",
       "      <th>0</th>\n",
       "      <td>0</td>\n",
       "      <td>1467810369</td>\n",
       "      <td>Mon Apr 06 22:19:45 PDT 2009</td>\n",
       "      <td>NO_QUERY</td>\n",
       "      <td>_TheSpecialOne_</td>\n",
       "      <td>@switchfoot http://twitpic.com/2y1zl - Awww, t...</td>\n",
       "    </tr>\n",
       "    <tr>\n",
       "      <th>1</th>\n",
       "      <td>0</td>\n",
       "      <td>1467810672</td>\n",
       "      <td>Mon Apr 06 22:19:49 PDT 2009</td>\n",
       "      <td>NO_QUERY</td>\n",
       "      <td>scotthamilton</td>\n",
       "      <td>is upset that he can't update his Facebook by ...</td>\n",
       "    </tr>\n",
       "    <tr>\n",
       "      <th>2</th>\n",
       "      <td>0</td>\n",
       "      <td>1467810917</td>\n",
       "      <td>Mon Apr 06 22:19:53 PDT 2009</td>\n",
       "      <td>NO_QUERY</td>\n",
       "      <td>mattycus</td>\n",
       "      <td>@Kenichan I dived many times for the ball. Man...</td>\n",
       "    </tr>\n",
       "    <tr>\n",
       "      <th>3</th>\n",
       "      <td>0</td>\n",
       "      <td>1467811184</td>\n",
       "      <td>Mon Apr 06 22:19:57 PDT 2009</td>\n",
       "      <td>NO_QUERY</td>\n",
       "      <td>ElleCTF</td>\n",
       "      <td>my whole body feels itchy and like its on fire</td>\n",
       "    </tr>\n",
       "    <tr>\n",
       "      <th>4</th>\n",
       "      <td>0</td>\n",
       "      <td>1467811193</td>\n",
       "      <td>Mon Apr 06 22:19:57 PDT 2009</td>\n",
       "      <td>NO_QUERY</td>\n",
       "      <td>Karoli</td>\n",
       "      <td>@nationwideclass no, it's not behaving at all....</td>\n",
       "    </tr>\n",
       "  </tbody>\n",
       "</table>\n",
       "</div>"
      ],
      "text/plain": [
       "   Target          ID                          Date     Query  \\\n",
       "0       0  1467810369  Mon Apr 06 22:19:45 PDT 2009  NO_QUERY   \n",
       "1       0  1467810672  Mon Apr 06 22:19:49 PDT 2009  NO_QUERY   \n",
       "2       0  1467810917  Mon Apr 06 22:19:53 PDT 2009  NO_QUERY   \n",
       "3       0  1467811184  Mon Apr 06 22:19:57 PDT 2009  NO_QUERY   \n",
       "4       0  1467811193  Mon Apr 06 22:19:57 PDT 2009  NO_QUERY   \n",
       "\n",
       "              User                                               Text  \n",
       "0  _TheSpecialOne_  @switchfoot http://twitpic.com/2y1zl - Awww, t...  \n",
       "1    scotthamilton  is upset that he can't update his Facebook by ...  \n",
       "2         mattycus  @Kenichan I dived many times for the ball. Man...  \n",
       "3          ElleCTF    my whole body feels itchy and like its on fire   \n",
       "4           Karoli  @nationwideclass no, it's not behaving at all....  "
      ]
     },
     "execution_count": 5,
     "metadata": {},
     "output_type": "execute_result"
    }
   ],
   "source": [
    "print(\"Path to dataset files:\", path)\n",
    "\n",
    "#C:\\Users\\hp\\.cache\\kagglehub\\datasets\\raj713335\\twittesentimentanalysis\\versions\\1\n",
    "\n",
    "tweets = pd.read_csv(f\"{path}/tweets.csv\", encoding = \"ISO-8859-1\", names= [\"Target\", \"ID\", \"Date\", \"Query\", \"User\", \"Text\"], header=None)\n",
    "\n",
    "tweets.head()"
   ]
  },
  {
   "cell_type": "code",
   "execution_count": 87,
   "id": "75d48ef6-5abc-4b9e-ac8f-419603854844",
   "metadata": {},
   "outputs": [
    {
     "name": "stdout",
     "output_type": "stream",
     "text": [
      "<class 'pandas.core.frame.DataFrame'>\n",
      "RangeIndex: 1600000 entries, 0 to 1599999\n",
      "Data columns (total 6 columns):\n",
      " #   Column  Non-Null Count    Dtype \n",
      "---  ------  --------------    ----- \n",
      " 0   Target  1600000 non-null  int64 \n",
      " 1   ID      1600000 non-null  int64 \n",
      " 2   Date    1600000 non-null  object\n",
      " 3   Query   1600000 non-null  object\n",
      " 4   User    1600000 non-null  object\n",
      " 5   Text    1600000 non-null  object\n",
      "dtypes: int64(2), object(4)\n",
      "memory usage: 73.2+ MB\n"
     ]
    }
   ],
   "source": [
    "tweets.info()"
   ]
  },
  {
   "cell_type": "markdown",
   "id": "e8911e52-1955-405d-aff4-30d45a7603f5",
   "metadata": {},
   "source": [
    "## This data do not have any null Values ,let us check if it has outliers\n"
   ]
  },
  {
   "cell_type": "code",
   "execution_count": 15,
   "id": "65be353c-f189-440e-a6cc-f98ce4c15842",
   "metadata": {},
   "outputs": [
    {
     "data": {
      "text/plain": [
       "(-5.0, 10.0)"
      ]
     },
     "execution_count": 15,
     "metadata": {},
     "output_type": "execute_result"
    },
    {
     "data": {
      "image/png": "[encoded data removed]",
      "text/plain": [
       "<Figure size 640x480 with 1 Axes>"
      ]
     },
     "metadata": {},
     "output_type": "display_data"
    }
   ],
   "source": [
    "#Target column has not outliers and it betwee [0:4]\n",
    "sns.boxplot(data=tweets['Target'])\n",
    "plt.ylim(-5,10)"
   ]
  },
  {
   "cell_type": "code",
   "execution_count": 27,
   "id": "ade8e036-9d42-467f-8e91-20c1602489f5",
   "metadata": {},
   "outputs": [
    {
     "data": {
      "text/plain": [
       "0"
      ]
     },
     "execution_count": 27,
     "metadata": {},
     "output_type": "execute_result"
    }
   ],
   "source": [
    "#ID has not negative values\n",
    "tweets[tweets['ID']<0].value_counts().sum()"
   ]
  },
  {
   "cell_type": "code",
   "execution_count": 29,
   "id": "3ca0358d-22e4-441e-bba1-283ac2f03370",
   "metadata": {},
   "outputs": [
    {
     "data": {
      "image/png": "[encoded data removed]",
      "text/plain": [
       "<Figure size 640x480 with 1 Axes>"
      ]
     },
     "metadata": {},
     "output_type": "display_data"
    }
   ],
   "source": [
    "sns.histplot(tweets['ID'], bins=50, kde=True)\n",
    "plt.show()"
   ]
  },
  {
   "cell_type": "markdown",
   "id": "a0e6721a-515c-494c-b9fc-1ae6b3f962bb",
   "metadata": {},
   "source": [
    "## Now we can say that our data is cleaned ,It hasnot neither outlier values nor null values\n"
   ]
  },
  {
   "cell_type": "markdown",
   "id": "32de343e-cd83-4083-b701-043741f0c41f",
   "metadata": {},
   "source": [
    "# Let us satart doing (Tokenization)"
   ]
  },
  {
   "cell_type": "code",
   "execution_count": 13,
   "id": "d9b64346-b71b-4566-af30-41c863dd73ba",
   "metadata": {},
   "outputs": [
    {
     "name": "stdout",
     "output_type": "stream",
     "text": [
      "Requirement already satisfied: dask in e:\\anaconda install\\install\\lib\\site-packages (2024.8.2)\n",
      "Requirement already satisfied: click>=8.1 in e:\\anaconda install\\install\\lib\\site-packages (from dask) (8.1.7)\n",
      "Requirement already satisfied: cloudpickle>=3.0.0 in e:\\anaconda install\\install\\lib\\site-packages (from dask) (3.0.0)\n",
      "Requirement already satisfied: fsspec>=2021.09.0 in e:\\anaconda install\\install\\lib\\site-packages (from dask) (2024.6.1)\n",
      "Requirement already satisfied: packaging>=20.0 in e:\\anaconda install\\install\\lib\\site-packages (from dask) (24.1)\n",
      "Requirement already satisfied: partd>=1.4.0 in e:\\anaconda install\\install\\lib\\site-packages (from dask) (1.4.1)\n",
      "Requirement already satisfied: pyyaml>=5.3.1 in e:\\anaconda install\\install\\lib\\site-packages (from dask) (6.0.1)\n",
      "Requirement already satisfied: toolz>=0.10.0 in e:\\anaconda install\\install\\lib\\site-packages (from dask) (0.12.0)\n",
      "Requirement already satisfied: colorama in e:\\anaconda install\\install\\lib\\site-packages (from click>=8.1->dask) (0.4.6)\n",
      "Requirement already satisfied: locket in e:\\anaconda install\\install\\lib\\site-packages (from partd>=1.4.0->dask) (1.0.0)\n",
      "Note: you may need to restart the kernel to use updated packages.\n"
     ]
    }
   ],
   "source": [
    "#to act with big data (replace .apply with .map_partitions)\n",
    "#pip install dask"
   ]
  },
  {
   "cell_type": "markdown",
   "id": "7e3e50b9-1835-4154-9dc2-6e0b7d8b86f0",
   "metadata": {},
   "source": [
    "# dask is a library faster than pandas with large data sets"
   ]
  },
  {
   "cell_type": "code",
   "execution_count": 15,
   "id": "19b53ea3-548e-49ad-9438-6faaa597d9f2",
   "metadata": {},
   "outputs": [],
   "source": [
    "import dask.dataframe as dd"
   ]
  },
  {
   "cell_type": "code",
   "execution_count": 33,
   "id": "36c5814b-0587-442c-9f25-87f1fc0049b8",
   "metadata": {},
   "outputs": [
    {
     "name": "stdout",
     "output_type": "stream",
     "text": [
      "Requirement already satisfied: nltk in e:\\anaconda install\\install\\lib\\site-packages (3.9.1)\n",
      "Requirement already satisfied: click in e:\\anaconda install\\install\\lib\\site-packages (from nltk) (8.1.7)\n",
      "Requirement already satisfied: joblib in e:\\anaconda install\\install\\lib\\site-packages (from nltk) (1.4.2)\n",
      "Requirement already satisfied: regex>=2021.8.3 in e:\\anaconda install\\install\\lib\\site-packages (from nltk) (2024.9.11)\n",
      "Requirement already satisfied: tqdm in e:\\anaconda install\\install\\lib\\site-packages (from nltk) (4.66.5)\n",
      "Requirement already satisfied: colorama in e:\\anaconda install\\install\\lib\\site-packages (from click->nltk) (0.4.6)\n",
      "Note: you may need to restart the kernel to use updated packages.\n"
     ]
    }
   ],
   "source": [
    "#pip install nltk"
   ]
  },
  {
   "cell_type": "code",
   "execution_count": 17,
   "id": "f0ddbd05-b667-464d-9aff-a9073816b59a",
   "metadata": {},
   "outputs": [
    {
     "name": "stderr",
     "output_type": "stream",
     "text": [
      "[nltk_data] Downloading package punkt to\n",
      "[nltk_data]     C:\\Users\\hp\\AppData\\Roaming\\nltk_data...\n",
      "[nltk_data]   Package punkt is already up-to-date!\n",
      "[nltk_data] Downloading package punkt_tab to\n",
      "[nltk_data]     C:\\Users\\hp\\AppData\\Roaming\\nltk_data...\n",
      "[nltk_data]   Package punkt_tab is already up-to-date!\n"
     ]
    }
   ],
   "source": [
    "import nltk\n",
    "nltk.download('punkt')\n",
    "nltk.download('punkt_tab')\n",
    "import re\n",
    "from nltk.tokenize import word_tokenize\n",
    "from nltk.util import bigrams"
   ]
  },
  {
   "cell_type": "code",
   "execution_count": 68,
   "id": "78e0ddfb-f069-4107-8344-0a9e87e964ab",
   "metadata": {},
   "outputs": [],
   "source": [
    "#this function to extract the words \n",
    "def extract_words (text):\n",
    "    if pd.isna(text): \n",
    "        return []\n",
    "    words=word_tokenize(text)\n",
    "    words=[re.sub(r'[^\\w\\s]', '',word)for word in words if not word.startswith(('@','#'))]\n",
    "    return words"
   ]
  },
  {
   "cell_type": "code",
   "execution_count": 70,
   "id": "f8c3e88a-400f-4a9b-bf6a-f37b6b532a64",
   "metadata": {},
   "outputs": [],
   "source": [
    "#this function to extract grams\n",
    "def extract_grams(text):\n",
    "    if pd.isna(text):  \n",
    "        return []\n",
    "    words = extract_words(text)  # إعادة استخدام الدالة السابقة\n",
    "    bigram_list = list(bigrams(words))  # إنشاء 2-grams\n",
    "    return [' '.join(bigram) for bigram in bigram_list]"
   ]
  },
  {
   "cell_type": "code",
   "execution_count": 72,
   "id": "8ce53835-5fba-4be2-b5bb-32168b6fa500",
   "metadata": {},
   "outputs": [],
   "source": [
    "#to ectract mentions \n",
    "def extract_mentions(text):\n",
    "    if pd.isna(text): \n",
    "        return []\n",
    "    mentions = re.findall(r'@\\w+',text)\n",
    "    mention=[mention[1:] for mention in mentions]\n",
    "    return mention"
   ]
  },
  {
   "cell_type": "code",
   "execution_count": 74,
   "id": "b51a5731-2939-4d02-9d78-910e10d0b5b9",
   "metadata": {},
   "outputs": [],
   "source": [
    "#to extract Hashtags\n",
    "def extract_hashtags(text):\n",
    "    if pd.isna(text):\n",
    "        return []\n",
    "    hashtags= re.findall(r'#\\w+',text)\n",
    "    hashtage=[tag[1:] for tag in hashtags]\n",
    "    return hashtage"
   ]
  },
  {
   "cell_type": "code",
   "execution_count": 101,
   "id": "435bc740-8fdd-401e-acdb-ba558fb0d144",
   "metadata": {},
   "outputs": [
    {
     "data": {
      "text/plain": [
       "Target    0\n",
       "ID        0\n",
       "Date      0\n",
       "Query     0\n",
       "User      0\n",
       "Text      0\n",
       "dtype: int64"
      ]
     },
     "execution_count": 101,
     "metadata": {},
     "output_type": "execute_result"
    }
   ],
   "source": [
    "dask_df=dd.from_pandas(tweets,npartitions=4)\n",
    "#dask_df.dtypes\n",
    "dask_df.isnull().sum().compute()\n"
   ]
  },
  {
   "cell_type": "code",
   "execution_count": 102,
   "id": "85b8d2e6-3c1a-4bcc-8bd9-cfebb1e96815",
   "metadata": {},
   "outputs": [],
   "source": [
    "dask_df['words'] = dask_df['Text'].map_partitions(lambda df: df.apply(extract_words))\n",
    "dask_df['grams'] = dask_df['Text'].map_partitions(lambda df: df.apply(extract_grams))\n",
    "dask_df['mentions'] = dask_df['Text'].map_partitions(lambda df: df.apply(extract_mentions))\n",
    "dask_df['hashtags'] = dask_df['Text'].map_partitions(lambda df: df.apply(extract_hashtags))\n"
   ]
  },
  {
   "cell_type": "code",
   "execution_count": 103,
   "id": "1fb51fff-f54c-430e-a9e5-4ccb8f3d7aba",
   "metadata": {},
   "outputs": [
    {
     "name": "stdout",
     "output_type": "stream",
     "text": [
      "Total DataFrame size: 1124.41 MB\n"
     ]
    }
   ],
   "source": [
    "total_size = dask_df.memory_usage(deep=True).sum().compute()\n",
    "print(f\"Total DataFrame size: {total_size / (1024**2):.2f} MB\")\n"
   ]
  },
  {
   "cell_type": "markdown",
   "id": "81b7eeb1-d595-424f-9ac6-9f5340f7dbc8",
   "metadata": {},
   "source": [
    "# Note!!! This memory usage is very big to be converted to pandas dataframe\n",
    "# , so that I downloaded it as a CSV file & will read it with pandas \n",
    "## (it will be more fast)"
   ]
  },
  {
   "cell_type": "code",
   "execution_count": 107,
   "id": "2de76c47-e12c-4a97-816a-8b285410ce9f",
   "metadata": {},
   "outputs": [
    {
     "data": {
      "text/plain": [
       "['C:\\\\Users\\\\hp\\\\final project DEPI\\\\processed_data.csv']"
      ]
     },
     "execution_count": 107,
     "metadata": {},
     "output_type": "execute_result"
    }
   ],
   "source": [
    "dask_df.to_csv(\"processed_data.csv\", index=False, single_file=True)\n"
   ]
  },
  {
   "cell_type": "code",
   "execution_count": 111,
   "id": "8384c441-2a51-4cb2-90dc-1c8c13f0bb9a",
   "metadata": {},
   "outputs": [],
   "source": [
    "tokenized_data=pd.read_csv('C:\\\\Users\\\\hp\\\\final project DEPI\\\\processed_data.csv')"
   ]
  },
  {
   "cell_type": "code",
   "execution_count": 112,
   "id": "3367c0ef-ef8b-46df-8dad-f235f5977a54",
   "metadata": {},
   "outputs": [
    {
     "name": "stdout",
     "output_type": "stream",
     "text": [
      "<class 'pandas.core.frame.DataFrame'>\n",
      "RangeIndex: 1600000 entries, 0 to 1599999\n",
      "Data columns (total 10 columns):\n",
      " #   Column    Non-Null Count    Dtype \n",
      "---  ------    --------------    ----- \n",
      " 0   Target    1600000 non-null  int64 \n",
      " 1   ID        1600000 non-null  int64 \n",
      " 2   Date      1600000 non-null  object\n",
      " 3   Query     1600000 non-null  object\n",
      " 4   User      1600000 non-null  object\n",
      " 5   Text      1600000 non-null  object\n",
      " 6   words     1600000 non-null  object\n",
      " 7   grams     1600000 non-null  object\n",
      " 8   mentions  1600000 non-null  object\n",
      " 9   hashtags  1600000 non-null  object\n",
      "dtypes: int64(2), object(8)\n",
      "memory usage: 122.1+ MB\n"
     ]
    }
   ],
   "source": [
    "tokenized_data.info()"
   ]
  },
  {
   "cell_type": "code",
   "execution_count": 115,
   "id": "ccc432f2-83c2-4b2a-b1e7-d45cf5198a50",
   "metadata": {},
   "outputs": [
    {
     "data": {
      "text/html": [
       "<div>\n",
       "<style scoped>\n",
       "    .dataframe tbody tr th:only-of-type {\n",
       "        vertical-align: middle;\n",
       "    }\n",
       "\n",
       "    .dataframe tbody tr th {\n",
       "        vertical-align: top;\n",
       "    }\n",
       "\n",
       "    .dataframe thead th {\n",
       "        text-align: right;\n",
       "    }\n",
       "</style>\n",
       "<table border=\"1\" class=\"dataframe\">\n",
       "  <thead>\n",
       "    <tr style=\"text-align: right;\">\n",
       "      <th></th>\n",
       "      <th>Target</th>\n",
       "      <th>ID</th>\n",
       "      <th>Date</th>\n",
       "      <th>Query</th>\n",
       "      <th>User</th>\n",
       "      <th>Text</th>\n",
       "      <th>words</th>\n",
       "      <th>grams</th>\n",
       "      <th>mentions</th>\n",
       "      <th>hashtags</th>\n",
       "    </tr>\n",
       "  </thead>\n",
       "  <tbody>\n",
       "    <tr>\n",
       "      <th>0</th>\n",
       "      <td>0</td>\n",
       "      <td>1467810369</td>\n",
       "      <td>Mon Apr 06 22:19:45 PDT 2009</td>\n",
       "      <td>NO_QUERY</td>\n",
       "      <td>_TheSpecialOne_</td>\n",
       "      <td>@switchfoot http://twitpic.com/2y1zl - Awww, t...</td>\n",
       "      <td>['switchfoot', 'http', '', 'twitpiccom2y1zl', ...</td>\n",
       "      <td>['switchfoot http', 'http ', ' twitpiccom2y1zl...</td>\n",
       "      <td>['switchfoot']</td>\n",
       "      <td>[]</td>\n",
       "    </tr>\n",
       "    <tr>\n",
       "      <th>1</th>\n",
       "      <td>0</td>\n",
       "      <td>1467810672</td>\n",
       "      <td>Mon Apr 06 22:19:49 PDT 2009</td>\n",
       "      <td>NO_QUERY</td>\n",
       "      <td>scotthamilton</td>\n",
       "      <td>is upset that he can't update his Facebook by ...</td>\n",
       "      <td>['is', 'upset', 'that', 'he', 'ca', 'nt', 'upd...</td>\n",
       "      <td>['is upset', 'upset that', 'that he', 'he ca',...</td>\n",
       "      <td>[]</td>\n",
       "      <td>[]</td>\n",
       "    </tr>\n",
       "    <tr>\n",
       "      <th>2</th>\n",
       "      <td>0</td>\n",
       "      <td>1467810917</td>\n",
       "      <td>Mon Apr 06 22:19:53 PDT 2009</td>\n",
       "      <td>NO_QUERY</td>\n",
       "      <td>mattycus</td>\n",
       "      <td>@Kenichan I dived many times for the ball. Man...</td>\n",
       "      <td>['Kenichan', 'I', 'dived', 'many', 'times', 'f...</td>\n",
       "      <td>['Kenichan I', 'I dived', 'dived many', 'many ...</td>\n",
       "      <td>['Kenichan']</td>\n",
       "      <td>[]</td>\n",
       "    </tr>\n",
       "    <tr>\n",
       "      <th>3</th>\n",
       "      <td>0</td>\n",
       "      <td>1467811184</td>\n",
       "      <td>Mon Apr 06 22:19:57 PDT 2009</td>\n",
       "      <td>NO_QUERY</td>\n",
       "      <td>ElleCTF</td>\n",
       "      <td>my whole body feels itchy and like its on fire</td>\n",
       "      <td>['my', 'whole', 'body', 'feels', 'itchy', 'and...</td>\n",
       "      <td>['my whole', 'whole body', 'body feels', 'feel...</td>\n",
       "      <td>[]</td>\n",
       "      <td>[]</td>\n",
       "    </tr>\n",
       "    <tr>\n",
       "      <th>4</th>\n",
       "      <td>0</td>\n",
       "      <td>1467811193</td>\n",
       "      <td>Mon Apr 06 22:19:57 PDT 2009</td>\n",
       "      <td>NO_QUERY</td>\n",
       "      <td>Karoli</td>\n",
       "      <td>@nationwideclass no, it's not behaving at all....</td>\n",
       "      <td>['nationwideclass', 'no', '', 'it', 's', 'not'...</td>\n",
       "      <td>['nationwideclass no', 'no ', ' it', 'it s', '...</td>\n",
       "      <td>['nationwideclass']</td>\n",
       "      <td>[]</td>\n",
       "    </tr>\n",
       "  </tbody>\n",
       "</table>\n",
       "</div>"
      ],
      "text/plain": [
       "   Target          ID                          Date     Query  \\\n",
       "0       0  1467810369  Mon Apr 06 22:19:45 PDT 2009  NO_QUERY   \n",
       "1       0  1467810672  Mon Apr 06 22:19:49 PDT 2009  NO_QUERY   \n",
       "2       0  1467810917  Mon Apr 06 22:19:53 PDT 2009  NO_QUERY   \n",
       "3       0  1467811184  Mon Apr 06 22:19:57 PDT 2009  NO_QUERY   \n",
       "4       0  1467811193  Mon Apr 06 22:19:57 PDT 2009  NO_QUERY   \n",
       "\n",
       "              User                                               Text  \\\n",
       "0  _TheSpecialOne_  @switchfoot http://twitpic.com/2y1zl - Awww, t...   \n",
       "1    scotthamilton  is upset that he can't update his Facebook by ...   \n",
       "2         mattycus  @Kenichan I dived many times for the ball. Man...   \n",
       "3          ElleCTF    my whole body feels itchy and like its on fire    \n",
       "4           Karoli  @nationwideclass no, it's not behaving at all....   \n",
       "\n",
       "                                               words  \\\n",
       "0  ['switchfoot', 'http', '', 'twitpiccom2y1zl', ...   \n",
       "1  ['is', 'upset', 'that', 'he', 'ca', 'nt', 'upd...   \n",
       "2  ['Kenichan', 'I', 'dived', 'many', 'times', 'f...   \n",
       "3  ['my', 'whole', 'body', 'feels', 'itchy', 'and...   \n",
       "4  ['nationwideclass', 'no', '', 'it', 's', 'not'...   \n",
       "\n",
       "                                               grams             mentions  \\\n",
       "0  ['switchfoot http', 'http ', ' twitpiccom2y1zl...       ['switchfoot']   \n",
       "1  ['is upset', 'upset that', 'that he', 'he ca',...                   []   \n",
       "2  ['Kenichan I', 'I dived', 'dived many', 'many ...         ['Kenichan']   \n",
       "3  ['my whole', 'whole body', 'body feels', 'feel...                   []   \n",
       "4  ['nationwideclass no', 'no ', ' it', 'it s', '...  ['nationwideclass']   \n",
       "\n",
       "  hashtags  \n",
       "0       []  \n",
       "1       []  \n",
       "2       []  \n",
       "3       []  \n",
       "4       []  "
      ]
     },
     "execution_count": 115,
     "metadata": {},
     "output_type": "execute_result"
    }
   ],
   "source": [
    "tokenized_data.head()"
   ]
  },
  {
   "cell_type": "code",
   "execution_count": 127,
   "id": "6229d80f-7dc5-4f3e-8c19-b34e8cf54157",
   "metadata": {},
   "outputs": [
    {
     "data": {
      "text/plain": [
       "hashtags\n",
       "[]                  1564153\n",
       "['followfriday']       1932\n",
       "['fb']                 1683\n",
       "['squarespace']         758\n",
       "['FF']                  520\n",
       "['1']                   428\n",
       "['FollowFriday']        414\n",
       "['musicmonday']         370\n",
       "['ff']                  354\n",
       "['iranelection']        269\n",
       "Name: count, dtype: int64"
      ]
     },
     "execution_count": 127,
     "metadata": {},
     "output_type": "execute_result"
    }
   ],
   "source": [
    "tokenized_data['hashtags'].value_counts().head(10)"
   ]
  },
  {
   "cell_type": "code",
   "execution_count": 125,
   "id": "1ea0736f-415e-41dd-a90e-3a872a217ea0",
   "metadata": {},
   "outputs": [
    {
     "data": {
      "text/plain": [
       "mentions\n",
       "[]                     861507\n",
       "['mileycyrus']           4145\n",
       "['tommcfly']             3608\n",
       "['ddlovato']             3109\n",
       "['DavidArchie']          1215\n",
       "['Jonasbrothers']        1197\n",
       "['DonnieWahlberg']       1020\n",
       "['jordanknight']         1004\n",
       "['mitchelmusso']          994\n",
       "['JonathanRKnight']       970\n",
       "Name: count, dtype: int64"
      ]
     },
     "execution_count": 125,
     "metadata": {},
     "output_type": "execute_result"
    }
   ],
   "source": [
    "tokenized_data['mentions'].value_counts().head(10)"
   ]
  },
  {
   "cell_type": "code",
   "execution_count": null,
   "id": "c2923a6b-2f2e-4aec-89b6-600661befc39",
   "metadata": {},
   "outputs": [],
   "source": []
  }
 ],
 "metadata": {
  "kernelspec": {
   "display_name": "Python [conda env:base] *",
   "language": "python",
   "name": "conda-base-py"
  },
  "language_info": {
   "codemirror_mode": {
    "name": "ipython",
    "version": 3
   },
   "file_extension": ".py",
   "mimetype": "text/x-python",
   "name": "python",
   "nbconvert_exporter": "python",
   "pygments_lexer": "ipython3",
   "version": "3.12.7"
  }
 },
 "nbformat": 4,
 "nbformat_minor": 5
}
